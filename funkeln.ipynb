{
  "nbformat": 4,
  "nbformat_minor": 0,
  "metadata": {
    "colab": {
      "provenance": [],
      "authorship_tag": "ABX9TyNVrA/v37d32ZpUpobAXHXt",
      "include_colab_link": true
    },
    "kernelspec": {
      "name": "python3",
      "display_name": "Python 3"
    },
    "language_info": {
      "name": "python"
    }
  },
  "cells": [
    {
      "cell_type": "markdown",
      "metadata": {
        "id": "view-in-github",
        "colab_type": "text"
      },
      "source": [
        "<a href=\"https://colab.research.google.com/github/baeldin/strass_preview_generator/blob/main/funkeln.ipynb\" target=\"_parent\"><img src=\"https://colab.research.google.com/assets/colab-badge.svg\" alt=\"Open In Colab\"/></a>"
      ]
    },
    {
      "cell_type": "code",
      "execution_count": 2,
      "metadata": {
        "id": "qMvLCyNdFZ6M"
      },
      "outputs": [],
      "source": [
        "import numpy as np\n",
        "import cv2\n",
        "import matplotlib.pyplot as plt"
      ]
    },
    {
      "cell_type": "code",
      "source": [
        "img = cv2.imread('funkeln.png', cv2.IMREAD_UNCHANGED)\n",
        "\n",
        "shine = []\n",
        "for ii in range(5):\n",
        "  for jj in range(4):\n",
        "    shine.append(img[100*ii:100*(ii+1), 100*jj:100*(jj+1), :])\n",
        "\n",
        "test = np.zeros((1000, 1000, 4))\n",
        "\n",
        "for ii in range(50):\n",
        "  x = np.random.randint(0, 900)\n",
        "  y = np.random.randint(0, 900)\n",
        "  s = np.random.randint(0, 15)\n",
        "  test[x:x+100, y:y+100, :] += shine[s]\n",
        "\n",
        "cv2.imwrite(\"test.png\", test)"
      ],
      "metadata": {
        "colab": {
          "base_uri": "https://localhost:8080/"
        },
        "id": "HNxnjirPFeEb",
        "outputId": "0495d522-e4c6-416b-8d91-125596e53b50"
      },
      "execution_count": 17,
      "outputs": [
        {
          "output_type": "execute_result",
          "data": {
            "text/plain": [
              "True"
            ]
          },
          "metadata": {},
          "execution_count": 17
        }
      ]
    }
  ]
}